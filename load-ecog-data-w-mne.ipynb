{
 "cells": [
  {
   "cell_type": "code",
   "execution_count": 1,
   "id": "b268fac4",
   "metadata": {},
   "outputs": [],
   "source": [
    "#!/usr/bin/env python\n",
    "# -*- coding: utf-8 -*-\n",
    "\n",
    "\"\"\"\n",
    "Load ECoG data with MNE, speech consonant-vowels dataset, 256 channels [Bouchard & Chang 2019]\n",
    "Authored by Eric Easthope\n",
    "\n",
    "MIT License\n",
    "Copyright (c) 2022\n",
    "\"\"\"\n",
    "\n",
    "# !pip install pynwb mne --quiet\n",
    "\n",
    "import pynwb\n",
    "import mne"
   ]
  },
  {
   "cell_type": "markdown",
   "id": "90155f8d",
   "metadata": {},
   "source": [
    "# Load ECoG data with MNE\n",
    "Authored by Eric Easthope"
   ]
  },
  {
   "cell_type": "markdown",
   "id": "58f5f2c1",
   "metadata": {},
   "source": [
    "The \"human ECoG speaking consonant-vowel syllables\" dataset [Bouchard & Chang 2019] has a separate [NWB](https://www.nwb.org)-formatted file for each subject ID, available [here](https://figshare.com/collections/Human_ECoG_speaking_consonant-vowel_syllables/4617263). If we download one of these NWB files and point Python to where it is with `filename` we can load it with PyNWB and preview its contents."
   ]
  },
  {
   "cell_type": "code",
   "execution_count": 2,
   "id": "70501ed1",
   "metadata": {},
   "outputs": [
    {
     "data": {
      "text/plain": [
       "root pynwb.file.NWBFile at 0x5140874528\n",
       "Fields:\n",
       "  acquisition: {\n",
       "    ElectricalSeries <class 'pynwb.ecephys.ElectricalSeries'>\n",
       "  }\n",
       "  devices: {\n",
       "    auto_device <class 'pynwb.device.Device'>\n",
       "  }\n",
       "  electrode_groups: {\n",
       "    auto_group <class 'pynwb.ecephys.ElectrodeGroup'>\n",
       "  }\n",
       "  electrodes: electrodes <class 'hdmf.common.table.DynamicTable'>\n",
       "  epochs: epochs <class 'pynwb.epoch.TimeIntervals'>\n",
       "  file_create_date: [datetime.datetime(2019, 6, 19, 12, 29, 13, 358846, tzinfo=tzoffset(None, -25200))]\n",
       "  identifier: EC9_B53\n",
       "  institution: University of California, San Francisco\n",
       "  intervals: {\n",
       "    epochs <class 'pynwb.epoch.TimeIntervals'>,\n",
       "    invalid_times <class 'pynwb.epoch.TimeIntervals'>,\n",
       "    trials <class 'pynwb.epoch.TimeIntervals'>\n",
       "  }\n",
       "  invalid_times: invalid_times <class 'pynwb.epoch.TimeIntervals'>\n",
       "  lab: Chang Lab\n",
       "  session_description: EC9_B53\n",
       "  session_id: EC9_B53\n",
       "  session_start_time: 1900-01-01 08:00:00+00:00\n",
       "  subject: subject pynwb.file.Subject at 0x5141206352\n",
       "Fields:\n",
       "  species: Homo sapiens\n",
       "  subject_id: EC9\n",
       "\n",
       "  timestamps_reference_time: 1900-01-01 08:00:00+00:00\n",
       "  trials: trials <class 'pynwb.epoch.TimeIntervals'>"
      ]
     },
     "execution_count": 2,
     "metadata": {},
     "output_type": "execute_result"
    }
   ],
   "source": [
    "# Set filepath\n",
    "# Load NWB file\n",
    "filepath = \"data/ecog-cv-syllables/EC9_B53.nwb\"\n",
    "nwb = pynwb.NWBHDF5IO(filepath, \"r\").read()\n",
    "nwb"
   ]
  },
  {
   "cell_type": "markdown",
   "id": "5043b649",
   "metadata": {},
   "source": [
    "Time series data for each subject is considered an `ElectricalSeries` object, which we can see is under `\"acquisition\"`. Though each NWB file can be quite large, so we may only wish to look at a few seconds of signal at a time. We can set this with `start` and `num_secs`, so that we get `num_secs` seconds of data after `start` seconds."
   ]
  },
  {
   "cell_type": "code",
   "execution_count": 3,
   "id": "cac2e12c",
   "metadata": {},
   "outputs": [],
   "source": [
    "# Set starting time\n",
    "# Set number of seconds to capture\n",
    "start = 20\n",
    "num_secs = 60"
   ]
  },
  {
   "cell_type": "markdown",
   "id": "5e7edbf5",
   "metadata": {},
   "source": [
    "To get the time series data itself data we access `\"ElectricalSeries\"` as though the `\"acquisition\"` attribute is a Python dictionary, and see that each `ElectricalSeries` object has a `\"data\"` attibute. Here we also find the sampling frequency `fs` as a `\"rate\"` attribute, which we use to slice a `(num_secs * fs, n_channels)`-dimensional subset of time series data as `signal`."
   ]
  },
  {
   "cell_type": "code",
   "execution_count": 4,
   "id": "0585041b",
   "metadata": {},
   "outputs": [
    {
     "data": {
      "text/plain": [
       "(183120, 256)"
      ]
     },
     "execution_count": 4,
     "metadata": {},
     "output_type": "execute_result"
    }
   ],
   "source": [
    "# Get sampling frequency (to nearest integer)\n",
    "fs = round(nwb.acquisition[\"ElectricalSeries\"].rate)\n",
    "\n",
    "# Get signal, number of channels\n",
    "signal = nwb.acquisition[\"ElectricalSeries\"].data[start * fs:(start + num_secs) * fs, :]\n",
    "_, n_channels = signal.shape\n",
    "signal.shape"
   ]
  },
  {
   "cell_type": "markdown",
   "id": "f94cf57d",
   "metadata": {},
   "source": [
    "Each subject takes a single break while continuing to measure ECoG, which is available under the `\"epochs\"` attribute. This break can be used as an ECoG baseline. We can find out and store when this happens (in seconds) as `start_break` and `stop_break`."
   ]
  },
  {
   "cell_type": "code",
   "execution_count": 5,
   "id": "cf66930e",
   "metadata": {},
   "outputs": [
    {
     "data": {
      "text/plain": [
       "(318.0, 334.0)"
      ]
     },
     "execution_count": 5,
     "metadata": {},
     "output_type": "execute_result"
    }
   ],
   "source": [
    "# Get start, stop time for ECoG baseline\n",
    "start_break = nwb.epochs[\"start_time\"][0]\n",
    "stop_break =  nwb.epochs[\"stop_time\"][0]\n",
    "start_break, stop_break"
   ]
  },
  {
   "cell_type": "markdown",
   "id": "078e4575",
   "metadata": {},
   "source": [
    "Invalid electrodes are also flagged by index under the `\"bads\"` attribute, which we can store as `bads`."
   ]
  },
  {
   "cell_type": "code",
   "execution_count": 6,
   "id": "dc14ae02",
   "metadata": {},
   "outputs": [
    {
     "data": {
      "text/plain": [
       "['64', '65', '66', '89', '255']"
      ]
     },
     "execution_count": 6,
     "metadata": {},
     "output_type": "execute_result"
    }
   ],
   "source": [
    "# Get \"bad\" electrodes (invalid data)\n",
    "bads = [str(i) for i, bad in enumerate(nwb.electrodes[\"bad\"][:]) if bad]\n",
    "bads"
   ]
  },
  {
   "cell_type": "markdown",
   "id": "8ebd1e35",
   "metadata": {},
   "source": [
    "This is enough information to create an [MNE](https://mne.tools/stable/index.html) `Info` object and MNE `Raw` object, which work together to simplify filtering, plotting, and analysis tasks. MNE prefers channel-first ordering so we pass MNE the transpose of `signal`, that is `signal.T`."
   ]
  },
  {
   "cell_type": "code",
   "execution_count": 7,
   "id": "8374e7ba",
   "metadata": {},
   "outputs": [
    {
     "name": "stdout",
     "output_type": "stream",
     "text": [
      "Creating RawArray with float64 data, n_channels=256, n_times=183120\n",
      "    Range : 0 ... 183119 =      0.000 ...    60.000 secs\n",
      "Ready.\n"
     ]
    }
   ],
   "source": [
    "# Create MNE info\n",
    "# Set \"bad\" electrodes\n",
    "info = mne.create_info(n_channels, fs, ch_types=\"ecog\", verbose=\"error\")\n",
    "info[\"bads\"] = bads\n",
    "\n",
    "# Create Raw object from \n",
    "raw = mne.io.RawArray(signal.T, info)"
   ]
  },
  {
   "cell_type": "markdown",
   "id": "7b702101",
   "metadata": {},
   "source": [
    "See the documentation for MNE's `Raw` object [here](https://mne.tools/stable/generated/mne.io.Raw.html) for details, examples, and how to use it."
   ]
  },
  {
   "cell_type": "markdown",
   "id": "60c15e4c",
   "metadata": {},
   "source": [
    "## Related Links\n",
    "\n",
    "- [Bouchard 2013 – \"Functional organization of human sensorimotor cortex for speech articulation\"](https://www.nature.com/articles/nature11911)\n",
    "- [Bouchard 2013 – Supplementary Material](https://www.ncbi.nlm.nih.gov/pmc/articles/PMC3606666/bin/NIHMS436351-supplement-1.pdf)\n",
    "- [PyNWB docs – \"NWB basics\"](https://pynwb.readthedocs.io/en/latest/tutorials/general/file.html)"
   ]
  },
  {
   "cell_type": "markdown",
   "id": "0e538ae2",
   "metadata": {},
   "source": [
    "**end**."
   ]
  }
 ],
 "metadata": {
  "kernelspec": {
   "display_name": "Python 3 (ipykernel)",
   "language": "python",
   "name": "python3"
  },
  "language_info": {
   "codemirror_mode": {
    "name": "ipython",
    "version": 3
   },
   "file_extension": ".py",
   "mimetype": "text/x-python",
   "name": "python",
   "nbconvert_exporter": "python",
   "pygments_lexer": "ipython3",
   "version": "3.8.13"
  }
 },
 "nbformat": 4,
 "nbformat_minor": 5
}
